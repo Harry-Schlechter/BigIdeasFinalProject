{
 "cells": [
  {
   "cell_type": "markdown",
   "metadata": {},
   "source": [
    "**Harry's Notebook for Final Project**"
   ]
  },
  {
   "cell_type": "markdown",
   "metadata": {},
   "source": [
    "I am using the data set Median Age at Death for each Neighborhood in Alleghany County as my submetric for determing the best neighborhood in Pittsburgh. I chose this because median death age increases with increased development. Western countries have higher death ages than non-Western countries. There is a correlation between death age and development which I would like to explore in Alleghany County. "
   ]
  },
  {
   "cell_type": "markdown",
   "metadata": {},
   "source": [
    "My submetric will look at the median death age by neighborhood and rank them highest death age to lowest. The death age will be itself for each neighborhood will be used as a score that will contribute to the main metric by:"
   ]
  },
  {
   "cell_type": "code",
   "execution_count": null,
   "metadata": {},
   "outputs": [],
   "source": [
    "import pandas as pd \n"
   ]
  }
 ],
 "metadata": {
  "kernelspec": {
   "display_name": "Python 3",
   "language": "python",
   "name": "python3"
  },
  "language_info": {
   "codemirror_mode": {
    "name": "ipython",
    "version": 3
   },
   "file_extension": ".py",
   "mimetype": "text/x-python",
   "name": "python",
   "nbconvert_exporter": "python",
   "pygments_lexer": "ipython3",
   "version": "3.8.3"
  }
 },
 "nbformat": 4,
 "nbformat_minor": 4
}
