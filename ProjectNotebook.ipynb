{
 "cells": [
  {
   "cell_type": "markdown",
   "metadata": {},
   "source": [
    "# Final Project"
   ]
  },
  {
   "cell_type": "markdown",
   "metadata": {},
   "source": [
    "## Introduction\n",
    "Our project aims to determine the best neighborhood in Pittsburgh through unconventional means. We all thought that other groups would use \"positive\" data sets like highest income, highest property value etc. While this is valid and probably a common approach we decided to use an unconventional one. We mostly looked for data sets that looked at negative aspects. This was our approach right away after the first data set we looked at was one about arrests by neighborhood.  We always intended to take this \"negative\" approach and never really explored alternatives, though later on we added a positive data set as well. After we all searched for data sets we ended up finding some perfect for our project and settled on median age at death, number of parks, and arrests. Later on we will go into our metric and submetrics in more detail, but we came up with our metric by combining these submetrics and comibining the neighborhoods \"score\" for each submetric to determine the best neighborhood in Pittsburgh"
   ]
  },
  {
   "cell_type": "markdown",
   "metadata": {},
   "source": [
    "## The Metric\n",
    "Our metric combines three submetrics from three different data sets. The first metric uses the median age at death by neighborhood dataset. The submetric rates each neighborhood on a 0-100 scale based on its reported median age at death. The second submetric looks at arrests by incident location and ranks them in reverse order. The third submetric counts the parks in each neighborhood. All of these submetrics combine to to create our overall metric based on the death age, arrests, and number of parks of each nieghborhood in Pittsburgh to determine the best one. "
   ]
  },
  {
   "cell_type": "markdown",
   "metadata": {},
   "source": [
    "## The Best Neighborhood"
   ]
  },
  {
   "cell_type": "markdown",
   "metadata": {},
   "source": [
    "### Submetric 1: Median Age at Death by Neighborhood\n",
    "There is a strong correlation between median age at death and development at the country level. The most developed Western Countries have a much higher median age of death than non-Western countries. We sought to apply this logic on a much smaller level. "
   ]
  },
  {
   "cell_type": "markdown",
   "metadata": {},
   "source": [
    "First I will get the max and the min of the total median age at death. Next, I used the max and min to find a range of values so that I could scale all the total median age at death values from 0-100 to give each neighborhood a score. The higher the score indicates the higher the median death age in relation to the other neighborhoods in Pittsburgh. Let's execute the code: "
   ]
  },
  {
   "cell_type": "code",
   "execution_count": null,
   "metadata": {},
   "outputs": [],
   "source": [
    "import pandas as pd \n",
    "import numpy as np\n",
    "%matplotlib inline\n",
    "data = pd.read_csv('mediandeathage.csv')  \n",
    "data.fillna(0, inplace=True)\n",
    "index = 1\n",
    "\n",
    "for index, row in data.iterrows():\n",
    "    if row['TOTAL MD AGE AT DEATH']==\"0\":\n",
    "        data = data.drop([index])\n",
    "    if row['TOTAL MD AGE AT DEATH']==0:\n",
    "        data = data.drop([index])\n",
    "    index = index + 1\n",
    "\n",
    "min = 100\n",
    "for index, row in data.iterrows():\n",
    "    if row['TOTAL MD AGE AT DEATH']< min:\n",
    "        min = row['TOTAL MD AGE AT DEATH']\n",
    "\n",
    "max = 0\n",
    "for index, row in data.iterrows():\n",
    "    if row['TOTAL MD AGE AT DEATH']> max:\n",
    "        max = row['TOTAL MD AGE AT DEATH']\n",
    "    \n",
    "range = max-min\n",
    "list = []\n",
    "for index, row in data.iterrows():\n",
    "    value = ((row['TOTAL MD AGE AT DEATH']-53.3)/range)*100\n",
    "    list.append(value)\n",
    "    \n",
    "data['Score'] = list\n",
    "data = data.sort_values(by=['Score'], ascending=False)\n",
    "data.head(10)"
   ]
  },
  {
   "cell_type": "markdown",
   "metadata": {},
   "source": [
    "After executing the code using the logic explained above we can see the top 10 neighborhoods in terms of median age at death being the highest in relation to each other. The calculated score will be used in our overall metric."
   ]
  },
  {
   "cell_type": "markdown",
   "metadata": {},
   "source": [
    "### Submetric 2: Neighborhoods with the least crime"
   ]
  },
  {
   "cell_type": "markdown",
   "metadata": {},
   "source": [
    "The dataset I used is City of Pittsburgh Arrests by Incident Location. I plan to find the neighborhoods with the most arrests and least arrests in order to find the safest neighborhood in Pittsburgh.\n",
    "\n",
    "Firstly, I will sort fill a dictionary with all the names of neighborhoods and how many times they popped up in the incident location data. Higher arrest numbers are generally correlated with lower quality of living and a neighborhood less favorable.\n"
   ]
  },
  {
   "cell_type": "code",
   "execution_count": 4,
   "metadata": {},
   "outputs": [
    {
     "name": "stdout",
     "output_type": "stream",
     "text": [
      "BLOOMFIELD : 7\n",
      "OUTSIDE CITY : 1\n",
      "WESTWOOD : 2\n",
      "EAST ALLEGHENY : 10\n",
      "CRAFTON HEIGHTS : 5\n",
      "GREENFIELD : 2\n",
      "BROOKLINE : 7\n",
      "REGENT SQUARE : 1\n",
      "EAST LIBERTY : 4\n",
      "EAST HILLS : 3\n",
      "CARRICK : 8\n",
      "ALLEGHENY CENTER : 3\n",
      "SOUTH SIDE FLATS : 15\n",
      "SHERADEN : 7\n",
      "EAST CARNEGIE : 1\n",
      "GOLDEN TRIANGLE/CIVIC ARENA : 10\n",
      "POINT BREEZE NORTH : 2\n",
      "PERRY SOUTH : 2\n",
      "ALLENTOWN : 3\n",
      "NORTH SHORE : 5\n",
      "MARSHALL-SHADELAND : 4\n",
      "CENTRAL OAKLAND : 5\n",
      "MIDDLE HILL : 3\n",
      "STRIP DISTRICT : 3\n",
      "LINCOLN-LEMINGTON-BELMAR : 3\n",
      "CENTRAL NORTHSIDE : 3\n",
      "TROY HILL-HERRS ISLAND : 1\n",
      "HIGHLAND PARK : 2\n",
      "HOMEWOOD NORTH : 8\n",
      "NORTHVIEW HEIGHTS : 4\n",
      "BRIGHTON HEIGHTS : 1\n",
      "HAZELWOOD : 2\n",
      "PERRY NORTH : 1\n",
      "BEDFORD DWELLINGS : 3\n",
      "ELLIOTT : 5\n",
      "BEECHVIEW : 4\n",
      "FINEVIEW : 4\n",
      "GLEN HAZEL : 3\n",
      "SPRING HILL-CITY VIEW : 2\n",
      "BLUFF : 3\n",
      "MANCHESTER : 1\n",
      "HOMEWOOD WEST : 4\n",
      "OUTSIDE COUNTY : 1\n",
      "POINT BREEZE : 1\n",
      "HOMEWOOD SOUTH : 4\n",
      "SQUIRREL HILL SOUTH : 2\n",
      "TERRACE VILLAGE : 1\n",
      "UPPER LAWRENCEVILLE : 2\n",
      "ARLINGTON : 1\n",
      "SOUTH SIDE SLOPES : 2\n",
      "LOWER LAWRENCEVILLE : 1\n",
      "GARFIELD : 1\n",
      "LINCOLN PLACE : 1\n",
      "LARIMER : 1\n",
      "MOUNT WASHINGTON : 2\n",
      "CALIFORNIA-KIRKBRIDE : 1\n",
      "BANKSVILLE : 1\n",
      "BON AIR : 2\n",
      "SOUTH SHORE : 1\n",
      "BELTZHOOVER : 1\n",
      "KNOXVILLE : 1\n"
     ]
    }
   ],
   "source": [
    "metric = pd.read_csv('Arrests_by_Incident_location.csv')\n",
    "metric.fillna(0, inplace=True)\n",
    "index = 1\n",
    "Crime_dict = {}\n",
    "\n",
    "zero_counter = 0\n",
    "\n",
    "for index, row in metric.iterrows():\n",
    "    if row[\"INCIDENTNEIGHBORHOOD\"] == 0:\n",
    "        zero_counter += 1\n",
    "    elif row[\"INCIDENTNEIGHBORHOOD\"].upper() not in Crime_dict:\n",
    "        Crime_dict[row[\"INCIDENTNEIGHBORHOOD\"].upper()] = 1\n",
    "    elif row[\"INCIDENTNEIGHBORHOOD\"].upper() in Crime_dict:\n",
    "        Crime_dict[row[\"INCIDENTNEIGHBORHOOD\"].upper()] += 1\n",
    "\n",
    "for key in Crime_dict:\n",
    "    print(key,':',Crime_dict[key])\n",
    "\n",
    "sorted_crime_dict = sorted(Crime_dict.items(), key=lambda x: x[1], reverse= False)\n",
    "\n",
    "\n",
    "\n",
    "    "
   ]
  },
  {
   "cell_type": "markdown",
   "metadata": {},
   "source": [
    "From the output above, It shows the neighborhoods in Pittsburgh and their respective crime incidents. I will use metrics provided by my other group members to compare and decide the best neighborhood in Pittsburgh."
   ]
  },
  {
   "cell_type": "markdown",
   "metadata": {},
   "source": [
    "### Submetric 3:"
   ]
  },
  {
   "cell_type": "markdown",
   "metadata": {},
   "source": [
    "This dataset provides information on parks in the city of Pittsburgh. It was compiled by the Department of Public Works. It includes ID, name of park, type of park, who is responsible for the maintenance, an image of the park, the neighborhood the park is in, the council district the park is in, the ward, the tract, the public works division, the pli division, the police and fire zone, and the latitude and longitude. For our purposes, we will mostly be looking at the neighborhood the parks are in.\n",
    "\n",
    "I chose this dataset because parks are an important form of enrichment for people living anywhere. Having a large amount of parks is not only good for families with children, but for people in general. It is important to go outside and get fresh air, so living somewhere with a lot of parks makes this easy.\n"
   ]
  },
  {
   "cell_type": "markdown",
   "metadata": {},
   "source": [
    "First, I will load our dataset to get an idea of what we are looking at. I will only load the park name and location columns."
   ]
  },
  {
   "cell_type": "code",
   "execution_count": 5,
   "metadata": {},
   "outputs": [
    {
     "data": {
      "text/html": [
       "<div>\n",
       "<style scoped>\n",
       "    .dataframe tbody tr th:only-of-type {\n",
       "        vertical-align: middle;\n",
       "    }\n",
       "\n",
       "    .dataframe tbody tr th {\n",
       "        vertical-align: top;\n",
       "    }\n",
       "\n",
       "    .dataframe thead th {\n",
       "        text-align: right;\n",
       "    }\n",
       "</style>\n",
       "<table border=\"1\" class=\"dataframe\">\n",
       "  <thead>\n",
       "    <tr style=\"text-align: right;\">\n",
       "      <th></th>\n",
       "      <th>name</th>\n",
       "      <th>neighborhood</th>\n",
       "    </tr>\n",
       "  </thead>\n",
       "  <tbody>\n",
       "    <tr>\n",
       "      <th>0</th>\n",
       "      <td>Able Long Park</td>\n",
       "      <td>Beechview</td>\n",
       "    </tr>\n",
       "    <tr>\n",
       "      <th>1</th>\n",
       "      <td>Albert Turk Graham Park</td>\n",
       "      <td>Crawford-Roberts</td>\n",
       "    </tr>\n",
       "    <tr>\n",
       "      <th>2</th>\n",
       "      <td>Alcoa Park</td>\n",
       "      <td>North Shore</td>\n",
       "    </tr>\n",
       "    <tr>\n",
       "      <th>3</th>\n",
       "      <td>Allegheny Commons</td>\n",
       "      <td>Allegheny Center</td>\n",
       "    </tr>\n",
       "    <tr>\n",
       "      <th>4</th>\n",
       "      <td>Allegheny Landing Park</td>\n",
       "      <td>North Shore</td>\n",
       "    </tr>\n",
       "    <tr>\n",
       "      <th>5</th>\n",
       "      <td>Allegheny Riverfront Park</td>\n",
       "      <td>Central Business District</td>\n",
       "    </tr>\n",
       "    <tr>\n",
       "      <th>6</th>\n",
       "      <td>Alpine Gardens Park</td>\n",
       "      <td>Central Northside</td>\n",
       "    </tr>\n",
       "    <tr>\n",
       "      <th>7</th>\n",
       "      <td>Alton Park</td>\n",
       "      <td>Beechview</td>\n",
       "    </tr>\n",
       "    <tr>\n",
       "      <th>8</th>\n",
       "      <td>Amber Triangle</td>\n",
       "      <td>East Liberty</td>\n",
       "    </tr>\n",
       "    <tr>\n",
       "      <th>9</th>\n",
       "      <td>Ammon Park</td>\n",
       "      <td>Bedford Dwellings</td>\n",
       "    </tr>\n",
       "    <tr>\n",
       "      <th>10</th>\n",
       "      <td>Arlington Park</td>\n",
       "      <td>South Side Slopes</td>\n",
       "    </tr>\n",
       "    <tr>\n",
       "      <th>11</th>\n",
       "      <td>Arlington Gym</td>\n",
       "      <td>South Side Slopes</td>\n",
       "    </tr>\n",
       "    <tr>\n",
       "      <th>12</th>\n",
       "      <td>Armstrong Park</td>\n",
       "      <td>South Side Flats</td>\n",
       "    </tr>\n",
       "    <tr>\n",
       "      <th>13</th>\n",
       "      <td>Arsenal Park</td>\n",
       "      <td>Lower Lawrenceville</td>\n",
       "    </tr>\n",
       "    <tr>\n",
       "      <th>14</th>\n",
       "      <td>August Wilson Park</td>\n",
       "      <td>Crawford-Roberts</td>\n",
       "    </tr>\n",
       "    <tr>\n",
       "      <th>15</th>\n",
       "      <td>Banksville Park</td>\n",
       "      <td>Banksville</td>\n",
       "    </tr>\n",
       "    <tr>\n",
       "      <th>16</th>\n",
       "      <td>Banksville School Park</td>\n",
       "      <td>Banksville</td>\n",
       "    </tr>\n",
       "    <tr>\n",
       "      <th>17</th>\n",
       "      <td>Bates St Triangle</td>\n",
       "      <td>South Oakland</td>\n",
       "    </tr>\n",
       "    <tr>\n",
       "      <th>18</th>\n",
       "      <td>Baum Negley Triangle</td>\n",
       "      <td>East Liberty</td>\n",
       "    </tr>\n",
       "    <tr>\n",
       "      <th>19</th>\n",
       "      <td>Baxter Park</td>\n",
       "      <td>Homewood North</td>\n",
       "    </tr>\n",
       "    <tr>\n",
       "      <th>20</th>\n",
       "      <td>Bedford Strip</td>\n",
       "      <td>Central Business District</td>\n",
       "    </tr>\n",
       "    <tr>\n",
       "      <th>21</th>\n",
       "      <td>Beechview Monument</td>\n",
       "      <td>Beechview</td>\n",
       "    </tr>\n",
       "    <tr>\n",
       "      <th>22</th>\n",
       "      <td>Beechview Healthy Active Living Center Park</td>\n",
       "      <td>Beechview</td>\n",
       "    </tr>\n",
       "    <tr>\n",
       "      <th>23</th>\n",
       "      <td>Blair Street Park</td>\n",
       "      <td>Hazelwood</td>\n",
       "    </tr>\n",
       "    <tr>\n",
       "      <th>24</th>\n",
       "      <td>Bon Air Park</td>\n",
       "      <td>Bon Air</td>\n",
       "    </tr>\n",
       "  </tbody>\n",
       "</table>\n",
       "</div>"
      ],
      "text/plain": [
       "                                           name               neighborhood\n",
       "0                                Able Long Park                  Beechview\n",
       "1                       Albert Turk Graham Park           Crawford-Roberts\n",
       "2                                    Alcoa Park                North Shore\n",
       "3                             Allegheny Commons           Allegheny Center\n",
       "4                        Allegheny Landing Park                North Shore\n",
       "5                     Allegheny Riverfront Park  Central Business District\n",
       "6                           Alpine Gardens Park          Central Northside\n",
       "7                                    Alton Park                  Beechview\n",
       "8                                Amber Triangle               East Liberty\n",
       "9                                    Ammon Park          Bedford Dwellings\n",
       "10                               Arlington Park          South Side Slopes\n",
       "11                                Arlington Gym          South Side Slopes\n",
       "12                               Armstrong Park           South Side Flats\n",
       "13                                 Arsenal Park        Lower Lawrenceville\n",
       "14                           August Wilson Park           Crawford-Roberts\n",
       "15                              Banksville Park                 Banksville\n",
       "16                       Banksville School Park                 Banksville\n",
       "17                            Bates St Triangle              South Oakland\n",
       "18                         Baum Negley Triangle               East Liberty\n",
       "19                                  Baxter Park             Homewood North\n",
       "20                                Bedford Strip  Central Business District\n",
       "21                           Beechview Monument                  Beechview\n",
       "22  Beechview Healthy Active Living Center Park                  Beechview\n",
       "23                            Blair Street Park                  Hazelwood\n",
       "24                                 Bon Air Park                    Bon Air"
      ]
     },
     "execution_count": 5,
     "metadata": {},
     "output_type": "execute_result"
    }
   ],
   "source": [
    "import pandas as pd \n",
    "fields = ['name', 'neighborhood']\n",
    "data1 = pd.read_csv('cityofpittsburghparks.csv', skipinitialspace=True, usecols=fields)   \n",
    "data1.head(25)"
   ]
  },
  {
   "cell_type": "markdown",
   "metadata": {},
   "source": [
    "I want to know how many parks are in each neighborhood. To achieve this, I will count the occurances of each neighborhood in the dataset."
   ]
  },
  {
   "cell_type": "code",
   "execution_count": 6,
   "metadata": {},
   "outputs": [
    {
     "data": {
      "text/plain": [
       "East Liberty                 12\n",
       "Central Business District    10\n",
       "Beechview                     8\n",
       "South Side Slopes             7\n",
       "Point Breeze                  7\n",
       "                             ..\n",
       "Hays                          1\n",
       "Arlington                     1\n",
       "Stanton Heights               1\n",
       "Morningside                   1\n",
       "Squirrel Hill North           1\n",
       "Name: neighborhood, Length: 73, dtype: int64"
      ]
     },
     "execution_count": 6,
     "metadata": {},
     "output_type": "execute_result"
    }
   ],
   "source": [
    "data1['neighborhood'].value_counts()"
   ]
  },
  {
   "cell_type": "markdown",
   "metadata": {},
   "source": [
    "### Combining the Submetrics:"
   ]
  },
  {
   "cell_type": "markdown",
   "metadata": {},
   "source": [
    "For the submetric combination we will be using Submetric 1 as a basis. Submetric 2 will be subtracted from Submetric 1 to give each neighborhood a new score reflecting it's crime rate. Finally, Submetric 3 will be added to that new value to give each neighborhood a final score reflecting the amount of parks in that neighborhood."
   ]
  },
  {
   "cell_type": "code",
   "execution_count": 1,
   "metadata": {},
   "outputs": [
    {
     "ename": "NameError",
     "evalue": "name 'data1' is not defined",
     "output_type": "error",
     "traceback": [
      "\u001b[0;31m---------------------------------------------------------------------------\u001b[0m",
      "\u001b[0;31mNameError\u001b[0m                                 Traceback (most recent call last)",
      "\u001b[0;32m<ipython-input-1-383452fe51b6>\u001b[0m in \u001b[0;36m<module>\u001b[0;34m\u001b[0m\n\u001b[1;32m      2\u001b[0m \u001b[0mpark_dict\u001b[0m \u001b[0;34m=\u001b[0m \u001b[0;34m{\u001b[0m\u001b[0;34m}\u001b[0m\u001b[0;34m\u001b[0m\u001b[0;34m\u001b[0m\u001b[0m\n\u001b[1;32m      3\u001b[0m \u001b[0mzero_counter2\u001b[0m \u001b[0;34m=\u001b[0m\u001b[0;36m0\u001b[0m\u001b[0;34m\u001b[0m\u001b[0;34m\u001b[0m\u001b[0m\n\u001b[0;32m----> 4\u001b[0;31m \u001b[0;32mfor\u001b[0m \u001b[0mindex\u001b[0m\u001b[0;34m,\u001b[0m \u001b[0mrow\u001b[0m \u001b[0;32min\u001b[0m \u001b[0mdata1\u001b[0m\u001b[0;34m.\u001b[0m\u001b[0miterrows\u001b[0m\u001b[0;34m(\u001b[0m\u001b[0;34m)\u001b[0m\u001b[0;34m:\u001b[0m \u001b[0;31m#converting lauren's data to a dictionary\u001b[0m\u001b[0;34m\u001b[0m\u001b[0;34m\u001b[0m\u001b[0m\n\u001b[0m\u001b[1;32m      5\u001b[0m     \u001b[0;32mif\u001b[0m \u001b[0mrow\u001b[0m\u001b[0;34m[\u001b[0m\u001b[0;34m\"neighborhood\"\u001b[0m\u001b[0;34m]\u001b[0m \u001b[0;34m==\u001b[0m \u001b[0;36m0\u001b[0m\u001b[0;34m:\u001b[0m\u001b[0;34m\u001b[0m\u001b[0;34m\u001b[0m\u001b[0m\n\u001b[1;32m      6\u001b[0m         \u001b[0mzero_counter2\u001b[0m \u001b[0;34m+=\u001b[0m \u001b[0;36m1\u001b[0m\u001b[0;34m\u001b[0m\u001b[0;34m\u001b[0m\u001b[0m\n",
      "\u001b[0;31mNameError\u001b[0m: name 'data1' is not defined"
     ]
    }
   ],
   "source": [
    "main_metric = {}\n",
    "park_dict = {}\n",
    "zero_counter2 =0\n",
    "for index, row in data1.iterrows(): #converting lauren's data to a dictionary\n",
    "    if row[\"neighborhood\"] == 0:\n",
    "        zero_counter2 += 1\n",
    "    elif row[\"neighborhood\"].upper() not in park_dict:\n",
    "        park_dict[row[\"neighborhood\"].upper()] = 1\n",
    "    elif row[\"neighborhood\"].upper() in park_dict:\n",
    "        park_dict[row[\"neighborhood\"].upper()] += 1\n",
    "\n",
    "for index, row in data.iterrows():\n",
    "    main_metric[row['NEIGHBORHOOD']] = row['Score'] #converting Harry's data to a dictionary\n",
    "\n",
    "revised_metric = {}\n",
    "for key in main_metric:\n",
    "   \n",
    "    if key in Crime_dict:\n",
    "        revised_metric[key] = main_metric[key] - Crime_dict[key]\n",
    "    elif key in park_dict:\n",
    "        revised_metric[key] = main_metric[key] + park_dict[key]\n",
    "    if key in Crime_dict and key in park_dict:\n",
    "        revised_metric[key] = main_metric[key] - Crime_dict[key] + park_dict[key]\n",
    "\n",
    "\n",
    "sorted_revised_metric = sorted(revised_metric.items(), key=lambda x: x[1], reverse= True) #sorting dictionary\n",
    "\n",
    "top20 = []\n",
    "counter1 = 0\n",
    "print(\"Top 20 neighborhoods in pittsburgh\")\n",
    "for key in sorted_revised_metric: \n",
    "    if counter1 == 20:\n",
    "        break\n",
    "    print(counter1+1, \"- \",key[0], \":\",revised_metric[key[0]])\n",
    "    top20.append( key[0])\n",
    "    counter1 +=1\n",
    "\n",
    "print(\"\\nBest neighborhood in Pittsburgh: \")"
   ]
  },
  {
   "cell_type": "markdown",
   "metadata": {},
   "source": [
    "**SQIURREL HILL SOUTH**"
   ]
  },
  {
   "cell_type": "markdown",
   "metadata": {},
   "source": [
    "## Conclusion\n",
    "### Conclusion Paragraph 1: Harry"
   ]
  },
  {
   "cell_type": "markdown",
   "metadata": {},
   "source": [
    "My favorite neighborhood prior to this project was definitely Shady Side. I always thought of it as one of the nicer areas of Pittsburgh with great good and was especially surprised to not even see it in our top 20. The data driven arguement we used only takes into account death age, arrests, and parks to decide and for me I mostly just base my favorite neighborhood on proximity and food. It seems the data and I are at a disagreement, just different priorities I guess. "
   ]
  },
  {
   "cell_type": "markdown",
   "metadata": {},
   "source": [
    "### Conclusion Paragraph 2: David"
   ]
  },
  {
   "cell_type": "markdown",
   "metadata": {},
   "source": [
    "Well I had no favorite neighborhood before I saw the data presented in my metric. But now I know that Squirrel Hill South is the best neighborhood, I will try my best to live there in the future. If I am unable to live in Squirrel Hill South, I'll just make my decision according to the list."
   ]
  },
  {
   "cell_type": "markdown",
   "metadata": {},
   "source": [
    "### Conclusion Paragraph 3: Lauren"
   ]
  },
  {
   "cell_type": "markdown",
   "metadata": {},
   "source": [
    "I was surprised that Squirrel Hill South ended up on top because it is a neighborhood I have never heard of before. My personal favorite neighborhood is Shadyside because there are a lot of stores and resturants that I like. However, if I were to live somewhere in Pittsburgh, I think the submetrics we chose would we very important in making my choice. There is a very important distinction between visitng a neighborhood to go shopping and actually living in that neighborhood. Thus, it makes sense that the actual best neighborhood differed from my favorite neighborhood. "
   ]
  }
 ],
 "metadata": {
  "kernelspec": {
   "display_name": "Python 3",
   "language": "python",
   "name": "python3"
  },
  "language_info": {
   "codemirror_mode": {
    "name": "ipython",
    "version": 3
   },
   "file_extension": ".py",
   "mimetype": "text/x-python",
   "name": "python",
   "nbconvert_exporter": "python",
   "pygments_lexer": "ipython3",
   "version": "3.8.3"
  }
 },
 "nbformat": 4,
 "nbformat_minor": 4
}
