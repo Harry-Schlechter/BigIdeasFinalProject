{
 "cells": [
  {
   "cell_type": "markdown",
   "metadata": {},
   "source": [
    "# Final Project"
   ]
  },
  {
   "cell_type": "markdown",
   "metadata": {},
   "source": [
    "## Introduction\n",
    "Our project aims to determine the best neighborhood in Pittsburgh through unconventional means. We all thought that other groups would use \"positive\" data sets like highest income, highest property value etc. While this is valid and probably a common approach we decided to use an unconventional one. We mostly looked for data sets that looked at negative aspects. This was our approach right away after the first data set we looked at was one about arrests by neighborhood.  We always intended to take this \"negative\" approach and never really explored alternatives, though later on we added a positive data set as well. After we all searched for data sets we ended up finding some perfect for our project and settled on median age at death, number of parks, and arrests. Later on we will go into our metric and submetrics in more detail, but we came up with our metric by combining these submetrics and comibining the neighborhoods \"score\" for each submetric to determine the best neighborhood in Pittsburgh"
   ]
  },
  {
   "cell_type": "markdown",
   "metadata": {},
   "source": [
    "The Metric: Describe your metric, what features are you measuring. What datasets are you using?\n"
   ]
  },
  {
   "cell_type": "markdown",
   "metadata": {},
   "source": [
    "## The Metric\n",
    "Our metric combines three submetrics from three different data sets. The first metric uses the median age at death by neighborhood dataset. The submetric rates each neighborhood on a 0-100 scale based on its reported median age at death. The second submetric counts the parks in each neighborhood. The third submetric.... All of these submetrics combine to to create our overall metric and measure the housing conditions, death age, and arrests of each nieghborhood in Pittsburgh to determine the best one. "
   ]
  },
  {
   "cell_type": "markdown",
   "metadata": {},
   "source": [
    "The Best Neighborhood: Apply the metric from the previous section to determine the best neighborhood in Pittsburgh. Beyond just executing code, provide a narrative about why you think this is the best neighborhood. Incorporate a data visualization, perhaps to rank all of the neighborhoods or show a neighborhood’s best-ness over time. The key is to make a data driven argument.\n"
   ]
  },
  {
   "cell_type": "markdown",
   "metadata": {},
   "source": [
    "## The Best Neighborhood"
   ]
  },
  {
   "cell_type": "markdown",
   "metadata": {},
   "source": [
    "### Submetric 1: Median Age at Death by Neighborhood\n",
    "There is a strong correlation between median age at death and development at the country level. The most developed Western Countries have a much higher median age of death than non-Western countries. We sought to apply this logic on a much smaller level. "
   ]
  },
  {
   "cell_type": "markdown",
   "metadata": {},
   "source": [
    "First I will get the max and the min of the total median age at death. Next, I used the max and min to find a range of values so that I could scale all the total median age at death values from 0-100 to give each neighborhood a score. The higher the score indicates the higher the median death age in relation to the other neighborhoods in Pittsburgh. Let's execute the code: "
   ]
  },
  {
   "cell_type": "code",
   "execution_count": 2,
   "metadata": {},
   "outputs": [
    {
     "data": {
      "text/html": [
       "<div>\n",
       "<style scoped>\n",
       "    .dataframe tbody tr th:only-of-type {\n",
       "        vertical-align: middle;\n",
       "    }\n",
       "\n",
       "    .dataframe tbody tr th {\n",
       "        vertical-align: top;\n",
       "    }\n",
       "\n",
       "    .dataframe thead th {\n",
       "        text-align: right;\n",
       "    }\n",
       "</style>\n",
       "<table border=\"1\" class=\"dataframe\">\n",
       "  <thead>\n",
       "    <tr style=\"text-align: right;\">\n",
       "      <th></th>\n",
       "      <th>NEIGHBORHOOD</th>\n",
       "      <th>BLACKdeaths</th>\n",
       "      <th>Black MD AGE AT DEATH</th>\n",
       "      <th>WHITEdeaths</th>\n",
       "      <th>White MD AGE AT DEATH</th>\n",
       "      <th>TOTALdeaths*</th>\n",
       "      <th>TOTAL MD AGE AT DEATH</th>\n",
       "      <th>Score</th>\n",
       "    </tr>\n",
       "  </thead>\n",
       "  <tbody>\n",
       "    <tr>\n",
       "      <th>89</th>\n",
       "      <td>SQUIRREL HILL SOUTH</td>\n",
       "      <td>58.0</td>\n",
       "      <td>83.2</td>\n",
       "      <td>721.0</td>\n",
       "      <td>86.2</td>\n",
       "      <td>802.0</td>\n",
       "      <td>85.9</td>\n",
       "      <td>100.000000</td>\n",
       "    </tr>\n",
       "    <tr>\n",
       "      <th>76</th>\n",
       "      <td>NORTH OAKLAND</td>\n",
       "      <td>45.0</td>\n",
       "      <td>70.9</td>\n",
       "      <td>227.0</td>\n",
       "      <td>86.8</td>\n",
       "      <td>279.0</td>\n",
       "      <td>85.6</td>\n",
       "      <td>99.079755</td>\n",
       "    </tr>\n",
       "    <tr>\n",
       "      <th>71</th>\n",
       "      <td>BANKSVILLE</td>\n",
       "      <td>4.0</td>\n",
       "      <td>0.0</td>\n",
       "      <td>247.0</td>\n",
       "      <td>85.5</td>\n",
       "      <td>253.0</td>\n",
       "      <td>85.5</td>\n",
       "      <td>98.773006</td>\n",
       "    </tr>\n",
       "    <tr>\n",
       "      <th>53</th>\n",
       "      <td>POINT BREEZE</td>\n",
       "      <td>13.0</td>\n",
       "      <td>66.7</td>\n",
       "      <td>158.0</td>\n",
       "      <td>85.7</td>\n",
       "      <td>175.0</td>\n",
       "      <td>85.1</td>\n",
       "      <td>97.546012</td>\n",
       "    </tr>\n",
       "    <tr>\n",
       "      <th>68</th>\n",
       "      <td>SQUIRREL HILL NORTH</td>\n",
       "      <td>6.0</td>\n",
       "      <td>75.0</td>\n",
       "      <td>231.0</td>\n",
       "      <td>85.3</td>\n",
       "      <td>242.0</td>\n",
       "      <td>85.0</td>\n",
       "      <td>97.239264</td>\n",
       "    </tr>\n",
       "    <tr>\n",
       "      <th>20</th>\n",
       "      <td>CENTRAL OAKLAND</td>\n",
       "      <td>2.0</td>\n",
       "      <td>0.0</td>\n",
       "      <td>50.0</td>\n",
       "      <td>84.0</td>\n",
       "      <td>52.0</td>\n",
       "      <td>84.0</td>\n",
       "      <td>94.171779</td>\n",
       "    </tr>\n",
       "    <tr>\n",
       "      <th>28</th>\n",
       "      <td>NEW HOMESTEAD</td>\n",
       "      <td>4.0</td>\n",
       "      <td>0.0</td>\n",
       "      <td>67.0</td>\n",
       "      <td>83.8</td>\n",
       "      <td>71.0</td>\n",
       "      <td>83.4</td>\n",
       "      <td>92.331288</td>\n",
       "    </tr>\n",
       "    <tr>\n",
       "      <th>27</th>\n",
       "      <td>SWISSHELM PARK</td>\n",
       "      <td>0.0</td>\n",
       "      <td>0.0</td>\n",
       "      <td>67.0</td>\n",
       "      <td>83.1</td>\n",
       "      <td>67.0</td>\n",
       "      <td>83.1</td>\n",
       "      <td>91.411043</td>\n",
       "    </tr>\n",
       "    <tr>\n",
       "      <th>77</th>\n",
       "      <td>OVERBROOK</td>\n",
       "      <td>4.0</td>\n",
       "      <td>0.0</td>\n",
       "      <td>284.0</td>\n",
       "      <td>82.5</td>\n",
       "      <td>289.0</td>\n",
       "      <td>82.2</td>\n",
       "      <td>88.650307</td>\n",
       "    </tr>\n",
       "    <tr>\n",
       "      <th>83</th>\n",
       "      <td>SHADYSIDE</td>\n",
       "      <td>72.0</td>\n",
       "      <td>81.2</td>\n",
       "      <td>320.0</td>\n",
       "      <td>82.4</td>\n",
       "      <td>406.0</td>\n",
       "      <td>82.1</td>\n",
       "      <td>88.343558</td>\n",
       "    </tr>\n",
       "  </tbody>\n",
       "</table>\n",
       "</div>"
      ],
      "text/plain": [
       "           NEIGHBORHOOD  BLACKdeaths  Black MD AGE AT DEATH  WHITEdeaths  \\\n",
       "89  SQUIRREL HILL SOUTH         58.0                   83.2        721.0   \n",
       "76        NORTH OAKLAND         45.0                   70.9        227.0   \n",
       "71           BANKSVILLE          4.0                    0.0        247.0   \n",
       "53         POINT BREEZE         13.0                   66.7        158.0   \n",
       "68  SQUIRREL HILL NORTH          6.0                   75.0        231.0   \n",
       "20      CENTRAL OAKLAND          2.0                    0.0         50.0   \n",
       "28        NEW HOMESTEAD          4.0                    0.0         67.0   \n",
       "27       SWISSHELM PARK          0.0                    0.0         67.0   \n",
       "77            OVERBROOK          4.0                    0.0        284.0   \n",
       "83            SHADYSIDE         72.0                   81.2        320.0   \n",
       "\n",
       "    White MD AGE AT DEATH  TOTALdeaths*  TOTAL MD AGE AT DEATH       Score  \n",
       "89                   86.2         802.0                   85.9  100.000000  \n",
       "76                   86.8         279.0                   85.6   99.079755  \n",
       "71                   85.5         253.0                   85.5   98.773006  \n",
       "53                   85.7         175.0                   85.1   97.546012  \n",
       "68                   85.3         242.0                   85.0   97.239264  \n",
       "20                   84.0          52.0                   84.0   94.171779  \n",
       "28                   83.8          71.0                   83.4   92.331288  \n",
       "27                   83.1          67.0                   83.1   91.411043  \n",
       "77                   82.5         289.0                   82.2   88.650307  \n",
       "83                   82.4         406.0                   82.1   88.343558  "
      ]
     },
     "execution_count": 2,
     "metadata": {},
     "output_type": "execute_result"
    }
   ],
   "source": [
    "import pandas as pd \n",
    "import numpy as np\n",
    "%matplotlib inline\n",
    "data = pd.read_csv('mediandeathage.csv')  \n",
    "data.fillna(0, inplace=True)\n",
    "index = 1\n",
    "\n",
    "for index, row in data.iterrows():\n",
    "    if row['TOTAL MD AGE AT DEATH']==\"0\":\n",
    "        data = data.drop([index])\n",
    "    if row['TOTAL MD AGE AT DEATH']==0:\n",
    "        data = data.drop([index])\n",
    "    index = index + 1\n",
    "\n",
    "min = 100\n",
    "for index, row in data.iterrows():\n",
    "    if row['TOTAL MD AGE AT DEATH']< min:\n",
    "        min = row['TOTAL MD AGE AT DEATH']\n",
    "\n",
    "max = 0\n",
    "for index, row in data.iterrows():\n",
    "    if row['TOTAL MD AGE AT DEATH']> max:\n",
    "        max = row['TOTAL MD AGE AT DEATH']\n",
    "    \n",
    "range = max-min\n",
    "list = []\n",
    "for index, row in data.iterrows():\n",
    "    value = ((row['TOTAL MD AGE AT DEATH']-53.3)/range)*100\n",
    "    list.append(value)\n",
    "    \n",
    "data['Score'] = list\n",
    "data = data.sort_values(by=['Score'], ascending=False)\n",
    "data.head(10)"
   ]
  },
  {
   "cell_type": "markdown",
   "metadata": {},
   "source": [
    "After executing the code using the logic explained above we can see the top 10 neighborhoods in terms of median age at death being the highest in relation to each other. The calculated score will be used in our overall metric."
   ]
  },
  {
   "cell_type": "markdown",
   "metadata": {},
   "source": [
    "### Submetric 2: Neighborhoods with the least crime"
   ]
  },
  {
   "cell_type": "markdown",
   "metadata": {},
   "source": [
    "The dataset I used is City of Pittsburgh Arrests by Incident Location. I plan to find the neighborhoods with the most arrests and least arrests in order to find the safest neighborhood in Pittsburgh.\n",
    "\n",
    "Firstly, I will sort fill a dictionary with all the names of neighborhoods and how many times they popped up in the incident location data.\n"
   ]
  },
  {
   "cell_type": "code",
   "execution_count": 3,
   "metadata": {},
   "outputs": [
    {
     "name": "stdout",
     "output_type": "stream",
     "text": [
      "Outside City : 1\n",
      "Regent Square : 1\n",
      "East Carnegie : 1\n",
      "Troy Hill-Herrs Island : 1\n",
      "Brighton Heights : 1\n",
      "Perry North : 1\n",
      "Manchester : 1\n",
      "Outside County : 1\n",
      "Point Breeze : 1\n",
      "Terrace Village : 1\n",
      "Arlington : 1\n",
      "Lower Lawrenceville : 1\n",
      "Garfield : 1\n",
      "Lincoln Place : 1\n",
      "Larimer : 1\n",
      "California-Kirkbride : 1\n",
      "Banksville : 1\n",
      "South Shore : 1\n",
      "Beltzhoover : 1\n",
      "Knoxville : 1\n"
     ]
    }
   ],
   "source": [
    "metric = pd.read_csv('Arrests_by_Incident_location.csv')\n",
    "metric.fillna(0, inplace=True)\n",
    "index = 1\n",
    "Crime_dict = {}\n",
    "\n",
    "zero_counter = 0\n",
    "\n",
    "for index, row in metric.iterrows():\n",
    "    if row[\"INCIDENTNEIGHBORHOOD\"] == 0:\n",
    "        zero_counter += 1\n",
    "    elif row[\"INCIDENTNEIGHBORHOOD\"] not in Crime_dict:\n",
    "        Crime_dict[row[\"INCIDENTNEIGHBORHOOD\"]] = 1\n",
    "    elif row[\"INCIDENTNEIGHBORHOOD\"] in Crime_dict:\n",
    "        Crime_dict[row[\"INCIDENTNEIGHBORHOOD\"]] += 1\n",
    "\n",
    "\n",
    "sorted_crime_dict = sorted(Crime_dict.items(), key=lambda x: x[1], reverse= False)\n",
    "\n",
    "top20 = {}\n",
    "ten_counter = 0\n",
    "for key in sorted_crime_dict:\n",
    "    if ten_counter == 20:\n",
    "        break\n",
    "    print(key[0], \":\",key[1])\n",
    "    top20[key[0]] =  key[1]\n",
    "    ten_counter +=1"
   ]
  },
  {
   "cell_type": "markdown",
   "metadata": {},
   "source": [
    "From the output above, It shows the top 20 neighborhoods with the least crime incidents. I will use metrics provided by my other group members to compare and decide the best neighborhood in Pittsburgh."
   ]
  },
  {
   "cell_type": "markdown",
   "metadata": {},
   "source": [
    "### Submetric 3:"
   ]
   
  },
  {
   "cell_type": "code",
   "execution_count": null,
   "metadata": {},
   "outputs": [],
   "source": []
  },
  {
   "cell_type": "markdown",
   "metadata": {},
   "source": [
    "### Combining the Submetrics:"
   ]
  },
  {
   "cell_type": "code",
   "execution_count": null,
   "metadata": {},
   "outputs": [],
   "source": []
  },
  {
   "cell_type": "markdown",
   "metadata": {},
   "source": [
    "## Conclusion\n",
    "### Conclusion Paragraph 1"
   ]
  },
  {
   "cell_type": "markdown",
   "metadata": {},
   "source": [
    "### Conclusion Paragraph 2"
   ]
  },
  {
   "cell_type": "markdown",
   "metadata": {},
   "source": [
    "### Conclusion Paragraph 3"
   ]
  }
 ],
 "metadata": {
  "kernelspec": {
   "display_name": "Python 3",
   "language": "python",
   "name": "python3"
  },
  "language_info": {
   "codemirror_mode": {
    "name": "ipython",
    "version": 3
   },
   "file_extension": ".py",
   "mimetype": "text/x-python",
   "name": "python",
   "nbconvert_exporter": "python",
   "pygments_lexer": "ipython3",
   "version": "3.8.3"
  }
 },
 "nbformat": 4,
 "nbformat_minor": 4
}
