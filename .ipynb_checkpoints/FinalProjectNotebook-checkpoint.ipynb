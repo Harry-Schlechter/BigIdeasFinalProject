{
 "cells": [
  {
   "cell_type": "markdown",
   "metadata": {},
   "source": [
    "# Final Project"
   ]
  },
  {
   "cell_type": "markdown",
   "metadata": {},
   "source": [
    "## Introduction\n",
    "Our project aims to determine the best neighborhood in Pittsburgh through unconventional means. We all thought that other groups would use \"positive\" data sets like highest income, highest property value etc. While this is valid and probably a common approach we decided to use an unconventional one. We mostly looked for data sets that looked at negative aspects. This was our approach right away after the first data set we looked at was one about arrests by neighborhood.  We always intended to take this \"negative\" approach and never really explored alternatives, though later on we added a positive data set as well. After we all searched for data sets we ended up finding some perfect for our project and settled on median age at death, number of parks, and arrests. Later on we will go into our metric and submetrics in more detail, but we came up with our metric by combining these submetrics and comibining the neighborhoods \"score\" for each submetric to determine the best neighborhood in Pittsburgh"
   ]
  },
  {
   "cell_type": "markdown",
   "metadata": {},
   "source": [
    "## The Metric\n",
    "Our metric combines three submetrics from three different data sets. The first metric uses the median age at death by neighborhood dataset. The submetric rates each neighborhood on a 0-100 scale based on its reported median age at death. The second submetric looks at arrests by incident location and ranks them in reverse order. The third submetric counts the parks in each neighborhood. All of these submetrics combine to to create our overall metric based on the death age, arrests, and number of parks of each nieghborhood in Pittsburgh to determine the best one. "
   ]
  },
  {
   "cell_type": "markdown",
   "metadata": {},
   "source": [
    "## The Best Neighborhood"
   ]
  },
  {
   "cell_type": "markdown",
   "metadata": {},
   "source": [
    "### Submetric 1: Median Age at Death by Neighborhood\n",
    "There is a strong correlation between median age at death and development at the country level. The most developed Western Countries have a much higher median age of death than non-Western countries. We sought to apply this logic on a much smaller level. "
   ]
  },
  {
   "cell_type": "markdown",
   "metadata": {},
   "source": [
    "First I will get the max and the min of the total median age at death. Next, I used the max and min to find a range of values so that I could scale all the total median age at death values from 0-100 to give each neighborhood a score. The higher the score indicates the higher the median death age in relation to the other neighborhoods in Pittsburgh. Let's execute the code: "
   ]
  },
  {
   "cell_type": "code",
   "execution_count": 7,
   "metadata": {},
   "outputs": [
    {
     "data": {
      "text/html": [
       "<div>\n",
       "<style scoped>\n",
       "    .dataframe tbody tr th:only-of-type {\n",
       "        vertical-align: middle;\n",
       "    }\n",
       "\n",
       "    .dataframe tbody tr th {\n",
       "        vertical-align: top;\n",
       "    }\n",
       "\n",
       "    .dataframe thead th {\n",
       "        text-align: right;\n",
       "    }\n",
       "</style>\n",
       "<table border=\"1\" class=\"dataframe\">\n",
       "  <thead>\n",
       "    <tr style=\"text-align: right;\">\n",
       "      <th></th>\n",
       "      <th>NEIGHBORHOOD</th>\n",
       "      <th>BLACKdeaths</th>\n",
       "      <th>Black MD AGE AT DEATH</th>\n",
       "      <th>WHITEdeaths</th>\n",
       "      <th>White MD AGE AT DEATH</th>\n",
       "      <th>TOTALdeaths*</th>\n",
       "      <th>TOTAL MD AGE AT DEATH</th>\n",
       "      <th>Score</th>\n",
       "    </tr>\n",
       "  </thead>\n",
       "  <tbody>\n",
       "    <tr>\n",
       "      <th>89</th>\n",
       "      <td>SQUIRREL HILL SOUTH</td>\n",
       "      <td>58.0</td>\n",
       "      <td>83.2</td>\n",
       "      <td>721.0</td>\n",
       "      <td>86.2</td>\n",
       "      <td>802.0</td>\n",
       "      <td>85.9</td>\n",
       "      <td>100.000000</td>\n",
       "    </tr>\n",
       "    <tr>\n",
       "      <th>76</th>\n",
       "      <td>NORTH OAKLAND</td>\n",
       "      <td>45.0</td>\n",
       "      <td>70.9</td>\n",
       "      <td>227.0</td>\n",
       "      <td>86.8</td>\n",
       "      <td>279.0</td>\n",
       "      <td>85.6</td>\n",
       "      <td>99.079755</td>\n",
       "    </tr>\n",
       "    <tr>\n",
       "      <th>71</th>\n",
       "      <td>BANKSVILLE</td>\n",
       "      <td>4.0</td>\n",
       "      <td>0.0</td>\n",
       "      <td>247.0</td>\n",
       "      <td>85.5</td>\n",
       "      <td>253.0</td>\n",
       "      <td>85.5</td>\n",
       "      <td>98.773006</td>\n",
       "    </tr>\n",
       "    <tr>\n",
       "      <th>53</th>\n",
       "      <td>POINT BREEZE</td>\n",
       "      <td>13.0</td>\n",
       "      <td>66.7</td>\n",
       "      <td>158.0</td>\n",
       "      <td>85.7</td>\n",
       "      <td>175.0</td>\n",
       "      <td>85.1</td>\n",
       "      <td>97.546012</td>\n",
       "    </tr>\n",
       "    <tr>\n",
       "      <th>68</th>\n",
       "      <td>SQUIRREL HILL NORTH</td>\n",
       "      <td>6.0</td>\n",
       "      <td>75.0</td>\n",
       "      <td>231.0</td>\n",
       "      <td>85.3</td>\n",
       "      <td>242.0</td>\n",
       "      <td>85.0</td>\n",
       "      <td>97.239264</td>\n",
       "    </tr>\n",
       "    <tr>\n",
       "      <th>20</th>\n",
       "      <td>CENTRAL OAKLAND</td>\n",
       "      <td>2.0</td>\n",
       "      <td>0.0</td>\n",
       "      <td>50.0</td>\n",
       "      <td>84.0</td>\n",
       "      <td>52.0</td>\n",
       "      <td>84.0</td>\n",
       "      <td>94.171779</td>\n",
       "    </tr>\n",
       "    <tr>\n",
       "      <th>28</th>\n",
       "      <td>NEW HOMESTEAD</td>\n",
       "      <td>4.0</td>\n",
       "      <td>0.0</td>\n",
       "      <td>67.0</td>\n",
       "      <td>83.8</td>\n",
       "      <td>71.0</td>\n",
       "      <td>83.4</td>\n",
       "      <td>92.331288</td>\n",
       "    </tr>\n",
       "    <tr>\n",
       "      <th>27</th>\n",
       "      <td>SWISSHELM PARK</td>\n",
       "      <td>0.0</td>\n",
       "      <td>0.0</td>\n",
       "      <td>67.0</td>\n",
       "      <td>83.1</td>\n",
       "      <td>67.0</td>\n",
       "      <td>83.1</td>\n",
       "      <td>91.411043</td>\n",
       "    </tr>\n",
       "    <tr>\n",
       "      <th>77</th>\n",
       "      <td>OVERBROOK</td>\n",
       "      <td>4.0</td>\n",
       "      <td>0.0</td>\n",
       "      <td>284.0</td>\n",
       "      <td>82.5</td>\n",
       "      <td>289.0</td>\n",
       "      <td>82.2</td>\n",
       "      <td>88.650307</td>\n",
       "    </tr>\n",
       "    <tr>\n",
       "      <th>83</th>\n",
       "      <td>SHADYSIDE</td>\n",
       "      <td>72.0</td>\n",
       "      <td>81.2</td>\n",
       "      <td>320.0</td>\n",
       "      <td>82.4</td>\n",
       "      <td>406.0</td>\n",
       "      <td>82.1</td>\n",
       "      <td>88.343558</td>\n",
       "    </tr>\n",
       "  </tbody>\n",
       "</table>\n",
       "</div>"
      ],
      "text/plain": [
       "           NEIGHBORHOOD  BLACKdeaths  Black MD AGE AT DEATH  WHITEdeaths  \\\n",
       "89  SQUIRREL HILL SOUTH         58.0                   83.2        721.0   \n",
       "76        NORTH OAKLAND         45.0                   70.9        227.0   \n",
       "71           BANKSVILLE          4.0                    0.0        247.0   \n",
       "53         POINT BREEZE         13.0                   66.7        158.0   \n",
       "68  SQUIRREL HILL NORTH          6.0                   75.0        231.0   \n",
       "20      CENTRAL OAKLAND          2.0                    0.0         50.0   \n",
       "28        NEW HOMESTEAD          4.0                    0.0         67.0   \n",
       "27       SWISSHELM PARK          0.0                    0.0         67.0   \n",
       "77            OVERBROOK          4.0                    0.0        284.0   \n",
       "83            SHADYSIDE         72.0                   81.2        320.0   \n",
       "\n",
       "    White MD AGE AT DEATH  TOTALdeaths*  TOTAL MD AGE AT DEATH       Score  \n",
       "89                   86.2         802.0                   85.9  100.000000  \n",
       "76                   86.8         279.0                   85.6   99.079755  \n",
       "71                   85.5         253.0                   85.5   98.773006  \n",
       "53                   85.7         175.0                   85.1   97.546012  \n",
       "68                   85.3         242.0                   85.0   97.239264  \n",
       "20                   84.0          52.0                   84.0   94.171779  \n",
       "28                   83.8          71.0                   83.4   92.331288  \n",
       "27                   83.1          67.0                   83.1   91.411043  \n",
       "77                   82.5         289.0                   82.2   88.650307  \n",
       "83                   82.4         406.0                   82.1   88.343558  "
      ]
     },
     "execution_count": 7,
     "metadata": {},
     "output_type": "execute_result"
    }
   ],
   "source": [
    "import pandas as pd \n",
    "import numpy as np\n",
    "%matplotlib inline\n",
    "import matplotlib.pyplot as plt\n",
    "data = pd.read_csv('mediandeathage.csv')  \n",
    "data.fillna(0, inplace=True)\n",
    "index = 1\n",
    "\n",
    "for index, row in data.iterrows():\n",
    "    if row['TOTAL MD AGE AT DEATH']==\"0\":\n",
    "        data = data.drop([index])\n",
    "    if row['TOTAL MD AGE AT DEATH']==0:\n",
    "        data = data.drop([index])\n",
    "    index = index + 1\n",
    "\n",
    "min = 100\n",
    "for index, row in data.iterrows():\n",
    "    if row['TOTAL MD AGE AT DEATH']< min:\n",
    "        min = row['TOTAL MD AGE AT DEATH']\n",
    "\n",
    "max = 0\n",
    "for index, row in data.iterrows():\n",
    "    if row['TOTAL MD AGE AT DEATH']> max:\n",
    "        max = row['TOTAL MD AGE AT DEATH']\n",
    "    \n",
    "range = max-min\n",
    "list = []\n",
    "for index, row in data.iterrows():\n",
    "    value = ((row['TOTAL MD AGE AT DEATH']-53.3)/range)*100\n",
    "    list.append(value)\n",
    "    \n",
    "data['Score'] = list\n",
    "data = data.sort_values(by=['Score'], ascending=False)\n",
    "data.head(10)"
   ]
  },
  {
   "cell_type": "markdown",
   "metadata": {},
   "source": [
    "After executing the code using the logic explained above we can see the top 10 neighborhoods in terms of median age at death being the highest in relation to each other. The calculated score will be used in our overall metric."
   ]
  },
  {
   "cell_type": "markdown",
   "metadata": {},
   "source": [
    "### Submetric 2: Neighborhoods with the least crime"
   ]
  },
  {
   "cell_type": "markdown",
   "metadata": {},
   "source": [
    "The dataset I used is City of Pittsburgh Arrests by Incident Location. I plan to find the neighborhoods with the most arrests and least arrests in order to find the safest neighborhood in Pittsburgh.\n",
    "\n",
    "Firstly, I will sort fill a dictionary with all the names of neighborhoods and how many times they popped up in the incident location data. Higher arrest numbers are generally correlated with lower quality of living and a neighborhood less favorable.\n"
   ]
  },
  {
   "cell_type": "code",
   "execution_count": 2,
   "metadata": {},
   "outputs": [
    {
     "name": "stdout",
     "output_type": "stream",
     "text": [
      "BLOOMFIELD : 7\n",
      "OUTSIDE CITY : 1\n",
      "WESTWOOD : 2\n",
      "EAST ALLEGHENY : 10\n",
      "CRAFTON HEIGHTS : 5\n",
      "GREENFIELD : 2\n",
      "BROOKLINE : 7\n",
      "REGENT SQUARE : 1\n",
      "EAST LIBERTY : 4\n",
      "EAST HILLS : 3\n",
      "CARRICK : 8\n",
      "ALLEGHENY CENTER : 3\n",
      "SOUTH SIDE FLATS : 15\n",
      "SHERADEN : 7\n",
      "EAST CARNEGIE : 1\n",
      "GOLDEN TRIANGLE/CIVIC ARENA : 10\n",
      "POINT BREEZE NORTH : 2\n",
      "PERRY SOUTH : 2\n",
      "ALLENTOWN : 3\n",
      "NORTH SHORE : 5\n",
      "MARSHALL-SHADELAND : 4\n",
      "CENTRAL OAKLAND : 5\n",
      "MIDDLE HILL : 3\n",
      "STRIP DISTRICT : 3\n",
      "LINCOLN-LEMINGTON-BELMAR : 3\n",
      "CENTRAL NORTHSIDE : 3\n",
      "TROY HILL-HERRS ISLAND : 1\n",
      "HIGHLAND PARK : 2\n",
      "HOMEWOOD NORTH : 8\n",
      "NORTHVIEW HEIGHTS : 4\n",
      "BRIGHTON HEIGHTS : 1\n",
      "HAZELWOOD : 2\n",
      "PERRY NORTH : 1\n",
      "BEDFORD DWELLINGS : 3\n",
      "ELLIOTT : 5\n",
      "BEECHVIEW : 4\n",
      "FINEVIEW : 4\n",
      "GLEN HAZEL : 3\n",
      "SPRING HILL-CITY VIEW : 2\n",
      "BLUFF : 3\n",
      "MANCHESTER : 1\n",
      "HOMEWOOD WEST : 4\n",
      "OUTSIDE COUNTY : 1\n",
      "POINT BREEZE : 1\n",
      "HOMEWOOD SOUTH : 4\n",
      "SQUIRREL HILL SOUTH : 2\n",
      "TERRACE VILLAGE : 1\n",
      "UPPER LAWRENCEVILLE : 2\n",
      "ARLINGTON : 1\n",
      "SOUTH SIDE SLOPES : 2\n",
      "LOWER LAWRENCEVILLE : 1\n",
      "GARFIELD : 1\n",
      "LINCOLN PLACE : 1\n",
      "LARIMER : 1\n",
      "MOUNT WASHINGTON : 2\n",
      "CALIFORNIA-KIRKBRIDE : 1\n",
      "BANKSVILLE : 1\n",
      "BON AIR : 2\n",
      "SOUTH SHORE : 1\n",
      "BELTZHOOVER : 1\n",
      "KNOXVILLE : 1\n"
     ]
    }
   ],
   "source": [
    "metric = pd.read_csv('Arrests_by_Incident_location.csv')\n",
    "metric.fillna(0, inplace=True)\n",
    "index = 1\n",
    "Crime_dict = {}\n",
    "\n",
    "zero_counter = 0\n",
    "\n",
    "for index, row in metric.iterrows():\n",
    "    if row[\"INCIDENTNEIGHBORHOOD\"] == 0:\n",
    "        zero_counter += 1\n",
    "    elif row[\"INCIDENTNEIGHBORHOOD\"].upper() not in Crime_dict:\n",
    "        Crime_dict[row[\"INCIDENTNEIGHBORHOOD\"].upper()] = 1\n",
    "    elif row[\"INCIDENTNEIGHBORHOOD\"].upper() in Crime_dict:\n",
    "        Crime_dict[row[\"INCIDENTNEIGHBORHOOD\"].upper()] += 1\n",
    "\n",
    "for key in Crime_dict:\n",
    "    print(key,':',Crime_dict[key])\n",
    "\n",
    "sorted_crime_dict = sorted(Crime_dict.items(), key=lambda x: x[1], reverse= False)\n",
    "\n",
    "\n",
    "\n",
    "    "
   ]
  },
  {
   "cell_type": "markdown",
   "metadata": {},
   "source": [
    "From the output above, It shows the neighborhoods in Pittsburgh and their respective crime incidents. I will use metrics provided by my other group members to compare and decide the best neighborhood in Pittsburgh."
   ]
  },
  {
   "cell_type": "markdown",
   "metadata": {},
   "source": [
    "### Submetric 3:"
   ]
  },
  {
   "cell_type": "markdown",
   "metadata": {},
   "source": [
    "This dataset provides information on parks in the city of Pittsburgh. It was compiled by the Department of Public Works. It includes ID, name of park, type of park, who is responsible for the maintenance, an image of the park, the neighborhood the park is in, the council district the park is in, the ward, the tract, the public works division, the pli division, the police and fire zone, and the latitude and longitude. For our purposes, we will mostly be looking at the neighborhood the parks are in.\n",
    "\n",
    "I chose this dataset because parks are an important form of enrichment for people living anywhere. Having a large amount of parks is not only good for families with children, but for people in general. It is important to go outside and get fresh air, so living somewhere with a lot of parks makes this easy.\n"
   ]
  },
  {
   "cell_type": "markdown",
   "metadata": {},
   "source": [
    "First, I will load our dataset to get an idea of what we are looking at. I will only load the park name and location columns."
   ]
  },
  {
   "cell_type": "code",
   "execution_count": 3,
   "metadata": {},
   "outputs": [
    {
     "data": {
      "text/html": [
       "<div>\n",
       "<style scoped>\n",
       "    .dataframe tbody tr th:only-of-type {\n",
       "        vertical-align: middle;\n",
       "    }\n",
       "\n",
       "    .dataframe tbody tr th {\n",
       "        vertical-align: top;\n",
       "    }\n",
       "\n",
       "    .dataframe thead th {\n",
       "        text-align: right;\n",
       "    }\n",
       "</style>\n",
       "<table border=\"1\" class=\"dataframe\">\n",
       "  <thead>\n",
       "    <tr style=\"text-align: right;\">\n",
       "      <th></th>\n",
       "      <th>name</th>\n",
       "      <th>neighborhood</th>\n",
       "    </tr>\n",
       "  </thead>\n",
       "  <tbody>\n",
       "    <tr>\n",
       "      <th>0</th>\n",
       "      <td>Able Long Park</td>\n",
       "      <td>Beechview</td>\n",
       "    </tr>\n",
       "    <tr>\n",
       "      <th>1</th>\n",
       "      <td>Albert Turk Graham Park</td>\n",
       "      <td>Crawford-Roberts</td>\n",
       "    </tr>\n",
       "    <tr>\n",
       "      <th>2</th>\n",
       "      <td>Alcoa Park</td>\n",
       "      <td>North Shore</td>\n",
       "    </tr>\n",
       "    <tr>\n",
       "      <th>3</th>\n",
       "      <td>Allegheny Commons</td>\n",
       "      <td>Allegheny Center</td>\n",
       "    </tr>\n",
       "    <tr>\n",
       "      <th>4</th>\n",
       "      <td>Allegheny Landing Park</td>\n",
       "      <td>North Shore</td>\n",
       "    </tr>\n",
       "    <tr>\n",
       "      <th>5</th>\n",
       "      <td>Allegheny Riverfront Park</td>\n",
       "      <td>Central Business District</td>\n",
       "    </tr>\n",
       "    <tr>\n",
       "      <th>6</th>\n",
       "      <td>Alpine Gardens Park</td>\n",
       "      <td>Central Northside</td>\n",
       "    </tr>\n",
       "    <tr>\n",
       "      <th>7</th>\n",
       "      <td>Alton Park</td>\n",
       "      <td>Beechview</td>\n",
       "    </tr>\n",
       "    <tr>\n",
       "      <th>8</th>\n",
       "      <td>Amber Triangle</td>\n",
       "      <td>East Liberty</td>\n",
       "    </tr>\n",
       "    <tr>\n",
       "      <th>9</th>\n",
       "      <td>Ammon Park</td>\n",
       "      <td>Bedford Dwellings</td>\n",
       "    </tr>\n",
       "    <tr>\n",
       "      <th>10</th>\n",
       "      <td>Arlington Park</td>\n",
       "      <td>South Side Slopes</td>\n",
       "    </tr>\n",
       "    <tr>\n",
       "      <th>11</th>\n",
       "      <td>Arlington Gym</td>\n",
       "      <td>South Side Slopes</td>\n",
       "    </tr>\n",
       "    <tr>\n",
       "      <th>12</th>\n",
       "      <td>Armstrong Park</td>\n",
       "      <td>South Side Flats</td>\n",
       "    </tr>\n",
       "    <tr>\n",
       "      <th>13</th>\n",
       "      <td>Arsenal Park</td>\n",
       "      <td>Lower Lawrenceville</td>\n",
       "    </tr>\n",
       "    <tr>\n",
       "      <th>14</th>\n",
       "      <td>August Wilson Park</td>\n",
       "      <td>Crawford-Roberts</td>\n",
       "    </tr>\n",
       "    <tr>\n",
       "      <th>15</th>\n",
       "      <td>Banksville Park</td>\n",
       "      <td>Banksville</td>\n",
       "    </tr>\n",
       "    <tr>\n",
       "      <th>16</th>\n",
       "      <td>Banksville School Park</td>\n",
       "      <td>Banksville</td>\n",
       "    </tr>\n",
       "    <tr>\n",
       "      <th>17</th>\n",
       "      <td>Bates St Triangle</td>\n",
       "      <td>South Oakland</td>\n",
       "    </tr>\n",
       "    <tr>\n",
       "      <th>18</th>\n",
       "      <td>Baum Negley Triangle</td>\n",
       "      <td>East Liberty</td>\n",
       "    </tr>\n",
       "    <tr>\n",
       "      <th>19</th>\n",
       "      <td>Baxter Park</td>\n",
       "      <td>Homewood North</td>\n",
       "    </tr>\n",
       "    <tr>\n",
       "      <th>20</th>\n",
       "      <td>Bedford Strip</td>\n",
       "      <td>Central Business District</td>\n",
       "    </tr>\n",
       "    <tr>\n",
       "      <th>21</th>\n",
       "      <td>Beechview Monument</td>\n",
       "      <td>Beechview</td>\n",
       "    </tr>\n",
       "    <tr>\n",
       "      <th>22</th>\n",
       "      <td>Beechview Healthy Active Living Center Park</td>\n",
       "      <td>Beechview</td>\n",
       "    </tr>\n",
       "    <tr>\n",
       "      <th>23</th>\n",
       "      <td>Blair Street Park</td>\n",
       "      <td>Hazelwood</td>\n",
       "    </tr>\n",
       "    <tr>\n",
       "      <th>24</th>\n",
       "      <td>Bon Air Park</td>\n",
       "      <td>Bon Air</td>\n",
       "    </tr>\n",
       "  </tbody>\n",
       "</table>\n",
       "</div>"
      ],
      "text/plain": [
       "                                           name               neighborhood\n",
       "0                                Able Long Park                  Beechview\n",
       "1                       Albert Turk Graham Park           Crawford-Roberts\n",
       "2                                    Alcoa Park                North Shore\n",
       "3                             Allegheny Commons           Allegheny Center\n",
       "4                        Allegheny Landing Park                North Shore\n",
       "5                     Allegheny Riverfront Park  Central Business District\n",
       "6                           Alpine Gardens Park          Central Northside\n",
       "7                                    Alton Park                  Beechview\n",
       "8                                Amber Triangle               East Liberty\n",
       "9                                    Ammon Park          Bedford Dwellings\n",
       "10                               Arlington Park          South Side Slopes\n",
       "11                                Arlington Gym          South Side Slopes\n",
       "12                               Armstrong Park           South Side Flats\n",
       "13                                 Arsenal Park        Lower Lawrenceville\n",
       "14                           August Wilson Park           Crawford-Roberts\n",
       "15                              Banksville Park                 Banksville\n",
       "16                       Banksville School Park                 Banksville\n",
       "17                            Bates St Triangle              South Oakland\n",
       "18                         Baum Negley Triangle               East Liberty\n",
       "19                                  Baxter Park             Homewood North\n",
       "20                                Bedford Strip  Central Business District\n",
       "21                           Beechview Monument                  Beechview\n",
       "22  Beechview Healthy Active Living Center Park                  Beechview\n",
       "23                            Blair Street Park                  Hazelwood\n",
       "24                                 Bon Air Park                    Bon Air"
      ]
     },
     "execution_count": 3,
     "metadata": {},
     "output_type": "execute_result"
    }
   ],
   "source": [
    "import pandas as pd \n",
    "fields = ['name', 'neighborhood']\n",
    "data1 = pd.read_csv('cityofpittsburghparks.csv', skipinitialspace=True, usecols=fields)   \n",
    "data1.head(25)"
   ]
  },
  {
   "cell_type": "markdown",
   "metadata": {},
   "source": [
    "I want to know how many parks are in each neighborhood. To achieve this, I will count the occurances of each neighborhood in the dataset."
   ]
  },
  {
   "cell_type": "code",
   "execution_count": 4,
   "metadata": {},
   "outputs": [
    {
     "data": {
      "text/plain": [
       "East Liberty                 12\n",
       "Central Business District    10\n",
       "Beechview                     8\n",
       "South Side Slopes             7\n",
       "Point Breeze                  7\n",
       "                             ..\n",
       "Hays                          1\n",
       "Arlington                     1\n",
       "Stanton Heights               1\n",
       "Morningside                   1\n",
       "Squirrel Hill North           1\n",
       "Name: neighborhood, Length: 73, dtype: int64"
      ]
     },
     "execution_count": 4,
     "metadata": {},
     "output_type": "execute_result"
    }
   ],
   "source": [
    "data1['neighborhood'].value_counts()"
   ]
  },
  {
   "cell_type": "markdown",
   "metadata": {},
   "source": [
    "### Combining the Submetrics:"
   ]
  },
  {
   "cell_type": "markdown",
   "metadata": {},
   "source": [
    "For the submetric combination we will be using Submetric 1 as a basis. Submetric 2 will be subtracted from Submetric 1 to give each neighborhood a new score reflecting it's crime rate. Finally, Submetric 3 will be added to that new value to give each neighborhood a final score reflecting the amount of parks in that neighborhood."
   ]
  },
  {
   "cell_type": "code",
   "execution_count": 5,
   "metadata": {},
   "outputs": [
    {
     "name": "stdout",
     "output_type": "stream",
     "text": [
      "Top 20 neighborhoods in pittsburgh\n",
      "1 -  SQUIRREL HILL SOUTH : 104.0\n",
      "2 -  POINT BREEZE : 103.54601226993861\n",
      "3 -  NORTH OAKLAND : 100.07975460122695\n",
      "4 -  BANKSVILLE : 99.77300613496931\n",
      "5 -  SQUIRREL HILL NORTH : 98.23926380368097\n",
      "6 -  SWISSHELM PARK : 94.41104294478525\n",
      "7 -  NEW HOMESTEAD : 93.33128834355828\n",
      "8 -  CENTRAL OAKLAND : 93.17177914110428\n",
      "9 -  UPPER HILL : 88.11656441717791\n",
      "10 -  CENTRAL LAWRENCEVILLE : 86.88957055214722\n",
      "\n",
      "Best neighborhood in Pittsburgh: \n"
     ]
    }
   ],
   "source": [
    "main_metric = {}\n",
    "park_dict = {}\n",
    "zero_counter2 =0\n",
    "for index, row in data1.iterrows(): #converting lauren's data to a dictionary\n",
    "    if row[\"neighborhood\"] == 0:\n",
    "        zero_counter2 += 1\n",
    "    elif row[\"neighborhood\"].upper() not in park_dict:\n",
    "        park_dict[row[\"neighborhood\"].upper()] = 1\n",
    "    elif row[\"neighborhood\"].upper() in park_dict:\n",
    "        park_dict[row[\"neighborhood\"].upper()] += 1\n",
    "\n",
    "for index, row in data.iterrows():\n",
    "    main_metric[row['NEIGHBORHOOD']] = row['Score'] #converting Harry's data to a dictionary\n",
    "\n",
    "revised_metric = {}\n",
    "for key in main_metric:\n",
    "   \n",
    "    if key in Crime_dict:\n",
    "        revised_metric[key] = main_metric[key] - Crime_dict[key]\n",
    "    elif key in park_dict:\n",
    "        revised_metric[key] = main_metric[key] + park_dict[key]\n",
    "    if key in Crime_dict and key in park_dict:\n",
    "        revised_metric[key] = main_metric[key] - Crime_dict[key] + park_dict[key]\n",
    "\n",
    "\n",
    "sorted_revised_metric = sorted(revised_metric.items(), key=lambda x: x[1], reverse= True) #sorting dictionary\n",
    "\n",
    "top20 = []\n",
    "top20scores = []\n",
    "counter1 = 0\n",
    "print(\"Top 20 neighborhoods in pittsburgh\")\n",
    "for key in sorted_revised_metric: \n",
    "    if counter1 == 10:\n",
    "        break\n",
    "    print(counter1+1, \"- \",key[0], \":\",revised_metric[key[0]])\n",
    "    top20.append( key[0])\n",
    "    top20scores.append(revised_metric[key[0]])\n",
    "    counter1 +=1\n",
    "\n",
    "print(\"\\nBest neighborhood in Pittsburgh: \")"
   ]
  },
  {
   "cell_type": "code",
   "execution_count": 8,
   "metadata": {},
   "outputs": [
    {
     "data": {
      "image/png": "[encoded data removed]",
      "text/plain": [
       "<Figure size 1440x1080 with 1 Axes>"
      ]
     },
     "metadata": {
      "needs_background": "light"
     },
     "output_type": "display_data"
    }
   ],
   "source": [
    "x = np.array(top20)\n",
    "y = np.array(top20scores)\n",
    "\n",
    "plt.figure(figsize=(20, 15))\n",
    "plt.bar(x,y)\n",
    "plt.show() \n"
   ]
  },
  {
   "cell_type": "markdown",
   "metadata": {},
   "source": [
    "**SQIURREL HILL SOUTH**"
   ]
  },
  {
   "cell_type": "markdown",
   "metadata": {},
   "source": [
    "## Conclusion\n",
    "### Conclusion Paragraph 1: Harry"
   ]
  },
  {
   "cell_type": "markdown",
   "metadata": {},
   "source": [
    "My favorite neighborhood prior to this project was definitely Shady Side. I always thought of it as one of the nicer areas of Pittsburgh with great good and was especially surprised to not even see it in our top 20. The data driven arguement we used only takes into account death age, arrests, and parks to decide and for me I mostly just base my favorite neighborhood on proximity and food. It seems the data and I are at a disagreement, just different priorities I guess. "
   ]
  },
  {
   "cell_type": "markdown",
   "metadata": {},
   "source": [
    "### Conclusion Paragraph 2: David"
   ]
  },
  {
   "cell_type": "markdown",
   "metadata": {},
   "source": [
    "Well I had no favorite neighborhood before I saw the data presented in my metric. But now I know that Squirrel Hill South is the best neighborhood, I will try my best to live there in the future. If I am unable to live in Squirrel Hill South, I'll just make my decision according to the list."
   ]
  },
  {
   "cell_type": "markdown",
   "metadata": {},
   "source": [
    "### Conclusion Paragraph 3: Lauren"
   ]
  },
  {
   "cell_type": "markdown",
   "metadata": {},
   "source": [
    "I was surprised that Squirrel Hill South ended up on top because it is a neighborhood I have never heard of before. My personal favorite neighborhood is Shadyside because there are a lot of stores and resturants that I like. However, if I were to live somewhere in Pittsburgh, I think the submetrics we chose would we very important in making my choice. There is a very important distinction between visitng a neighborhood to go shopping and actually living in that neighborhood. Thus, it makes sense that the actual best neighborhood differed from my favorite neighborhood. "
   ]
  }
 ],
 "metadata": {
  "kernelspec": {
   "display_name": "Python 3",
   "language": "python",
   "name": "python3"
  },
  "language_info": {
   "codemirror_mode": {
    "name": "ipython",
    "version": 3
   },
   "file_extension": ".py",
   "mimetype": "text/x-python",
   "name": "python",
   "nbconvert_exporter": "python",
   "pygments_lexer": "ipython3",
   "version": "3.8.3"
  }
 },
 "nbformat": 4,
 "nbformat_minor": 4
}
