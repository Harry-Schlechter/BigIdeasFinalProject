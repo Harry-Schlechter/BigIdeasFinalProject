{
 "cells": [
  {
   "cell_type": "markdown",
   "metadata": {},
   "source": [
    "The dataset I used is City of Pittsburgh Arrests by Incident Location. I plan to find the neighborhoods with the most arrests and least arrests in order to find the safest neighborhood in Pittsburgh."
   ]
  },
  {
   "cell_type": "code",
   "execution_count": 1,
   "metadata": {},
   "outputs": [],
   "source": [
    "import pandas as pd \n",
    "import numpy as np\n",
    "%matplotlib inline\n",
    "metric = pd.read_csv('Arrests_by_Incident_location.csv')"
   ]
  },
  {
   "cell_type": "markdown",
   "metadata": {},
   "source": [
    "Firstly, I will sort fill a dictionary with all the names of neighborhoods and how many times they popped up in the incident location data."
   ]
  },
  {
   "cell_type": "code",
   "execution_count": 37,
   "metadata": {},
   "outputs": [
    {
     "name": "stdout",
     "output_type": "stream",
     "text": [
      "Outside City : 1\n",
      "Regent Square : 1\n",
      "East Carnegie : 1\n",
      "Troy Hill-Herrs Island : 1\n",
      "Brighton Heights : 1\n",
      "Perry North : 1\n",
      "Manchester : 1\n",
      "Outside County : 1\n",
      "Point Breeze : 1\n",
      "Terrace Village : 1\n",
      "Arlington : 1\n",
      "Lower Lawrenceville : 1\n",
      "Garfield : 1\n",
      "Lincoln Place : 1\n",
      "Larimer : 1\n",
      "California-Kirkbride : 1\n",
      "Banksville : 1\n",
      "South Shore : 1\n",
      "Beltzhoover : 1\n",
      "Knoxville : 1\n"
     ]
    }
   ],
   "source": [
    "metric.fillna(0, inplace=True)\n",
    "index = 1\n",
    "Crime_dict = {}\n",
    "\n",
    "zero_counter = 0\n",
    "\n",
    "for index, row in metric.iterrows():\n",
    "    if row[\"INCIDENTNEIGHBORHOOD\"] == 0:\n",
    "        zero_counter += 1\n",
    "    elif row[\"INCIDENTNEIGHBORHOOD\"] not in Crime_dict:\n",
    "        Crime_dict[row[\"INCIDENTNEIGHBORHOOD\"]] = 1\n",
    "    elif row[\"INCIDENTNEIGHBORHOOD\"] in Crime_dict:\n",
    "        Crime_dict[row[\"INCIDENTNEIGHBORHOOD\"]] += 1\n",
    "\n",
    "\n",
    "sorted_crime_dict = sorted(Crime_dict.items(), key=lambda x: x[1], reverse= False)\n",
    "\n",
    "ten_counter = 0\n",
    "for key in sorted_crime_dict:\n",
    "    if ten_counter == 20:\n",
    "        break\n",
    "    print(key[0], \":\",key[1])\n",
    "    ten_counter +=1"
   ]
  },
  {
   "cell_type": "markdown",
   "metadata": {},
   "source": [
    "From the output above, It shows the top 20 neighborhoods with the least crime incidents. \n",
    "I will use metrics provided by my other group members to compare and decide the best neighborhood in Pittsburgh."
   ]
  }
 ],
 "metadata": {
  "kernelspec": {
   "display_name": "Python 3",
   "language": "python",
   "name": "python3"
  },
  "language_info": {
   "codemirror_mode": {
    "name": "ipython",
    "version": 3
   },
   "file_extension": ".py",
   "mimetype": "text/x-python",
   "name": "python",
   "nbconvert_exporter": "python",
   "pygments_lexer": "ipython3",
   "version": "3.8.3"
  }
 },
 "nbformat": 4,
 "nbformat_minor": 4
}
